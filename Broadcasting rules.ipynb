{
 "cells": [
  {
   "cell_type": "markdown",
   "metadata": {},
   "source": [
    "# Broadcasting rules"
   ]
  },
  {
   "cell_type": "markdown",
   "metadata": {},
   "source": [
    "### Imports:"
   ]
  },
  {
   "cell_type": "code",
   "execution_count": 1,
   "metadata": {},
   "outputs": [
    {
     "name": "stdout",
     "output_type": "stream",
     "text": [
      "TF version: 2.4.1\n",
      "TFP version: 0.12.1\n"
     ]
    }
   ],
   "source": [
    "\n",
    "import tensorflow as tf\n",
    "import tensorflow_probability as tfp\n",
    "tfd = tfp.distributions\n",
    "\n",
    "print(\"TF version:\", tf.__version__)\n",
    "print(\"TFP version:\", tfp.__version__)"
   ]
  },
  {
   "cell_type": "code",
   "execution_count": 2,
   "metadata": {},
   "outputs": [],
   "source": [
    "import numpy as np"
   ]
  },
  {
   "cell_type": "markdown",
   "metadata": {},
   "source": [
    "## Operations on arrays of different sizes in numpy"
   ]
  },
  {
   "cell_type": "markdown",
   "metadata": {},
   "source": [
    "Numpy operations can be applied to arrays that are not of the same shape, but only if the shapes satisfy certain conditions."
   ]
  },
  {
   "cell_type": "code",
   "execution_count": 3,
   "metadata": {},
   "outputs": [
    {
     "data": {
      "text/plain": [
       "array([[1., 2., 3.],\n",
       "       [2., 3., 4.],\n",
       "       [3., 4., 5.],\n",
       "       [4., 5., 6.]])"
      ]
     },
     "execution_count": 3,
     "metadata": {},
     "output_type": "execute_result"
    }
   ],
   "source": [
    "# Add two arrays with different shapes\n",
    "\n",
    "a = np.array([[1.],\n",
    "              [2.],\n",
    "              [3.],\n",
    "              [4.]])  # shape (4, 1)\n",
    "\n",
    "b = np.array([0., 1., 2.])  # shape (3,) \n",
    "\n",
    "a + b"
   ]
  },
  {
   "cell_type": "markdown",
   "metadata": {},
   "source": [
    "This is the addition\n",
    "\n",
    "    [ [1.],    +  [0., 1., 2.]  \n",
    "      [2.],  \n",
    "      [3.],  \n",
    "      [4.] ]\n",
    "\n",
    "To execute it, numpy:\n",
    "1. Aligned the shapes of `a` and `b` on the last axis and prepended 1s to the shape with fewer axes:\n",
    "        a: 4 x 1     --->    a: 4 x 1\n",
    "        b:     3     --->    b: 1 x 3\n",
    "        \n",
    "\n",
    "2. Checked that the sizes of the axes matched or were equal to 1:\n",
    "        a: 4 x 1  \n",
    "        b: 1 x 3\n",
    "`a` and `b` satisfied this criterion. \n",
    "\n",
    "\n",
    "3. Stretched both arrays on their 1-valued axes so that their shapes matched, then added them together.  \n",
    "`a` was replicated 3 times in the second axis, while `b` was replicated 4 times in the first axis.\n",
    "\n",
    "This meant that the addition in the final step was\n",
    "\n",
    "    [ [1., 1., 1.],    +  [ [0., 1., 2.],  \n",
    "      [2., 2., 2.],         [0., 1., 2.],  \n",
    "      [3., 3., 3.],         [0., 1., 2.],  \n",
    "      [4., 4., 4.] ]        [0., 1., 2.] ]\n",
    "      \n",
    "Addition was then carried out element-by-element, as verified by referring back to the output of the code cell above.  \n",
    "This resulted in an output with shape 4 x 3.\n",
    "\n",
    "\n",
    "## Numpy's broadcasting rule\n",
    "\n",
    "Brodcasting rules for numpy:\n",
    "> Prepend 1s to the smaller shape,   \n",
    "check that the axes of both arrays have sizes that are equal or 1,  \n",
    "then stretch the arrays in their size-1 axes.\n",
    "\n",
    "**Note: does not require the input arrays have the same number of axes:**\n",
    "\n",
    "        a: 3 x 7 x 1  \n",
    "        b:     1 x 5  \n",
    "    a * b: 3 x 7 x 5\n"
   ]
  },
  {
   "cell_type": "code",
   "execution_count": 8,
   "metadata": {},
   "outputs": [
    {
     "data": {
      "text/plain": [
       "array([[[2.e-02, 2.e-02],\n",
       "        [2.e-01, 2.e-01]],\n",
       "\n",
       "       [[3.e+00, 3.e+00],\n",
       "        [3.e+01, 3.e+01]]])"
      ]
     },
     "execution_count": 8,
     "metadata": {},
     "output_type": "execute_result"
    }
   ],
   "source": [
    "a = np.array([[[0.01], [0.1]],\n",
    "              [[1.00], [10.]]])  # shape (2, 2, 1)\n",
    "b = np.array([[[2., 2.]],\n",
    "              [[3., 3.]]])       # shape (2, 1, 2)\n",
    "\n",
    "a * b # shape (2, 2, 2)"
   ]
  },
  {
   "cell_type": "code",
   "execution_count": 9,
   "metadata": {},
   "outputs": [
    {
     "data": {
      "text/plain": [
       "array([[-0., -1., -2., -3.],\n",
       "       [ 0.,  0.,  0.,  0.],\n",
       "       [ 0.,  1.,  2.,  3.]])"
      ]
     },
     "execution_count": 9,
     "metadata": {},
     "output_type": "execute_result"
    }
   ],
   "source": [
    "a = np.array([-1., 0., 1.])\n",
    "b = np.array([0., 1., 2., 3.])\n",
    "\n",
    "a[:, np.newaxis] * b  # outer product ab^T, where a and b are column vectors"
   ]
  },
  {
   "cell_type": "code",
   "execution_count": 12,
   "metadata": {},
   "outputs": [],
   "source": [
    "a = [[1.], [2.], [3.]]\n",
    "b = np.zeros(shape=[10, 1, 1])\n",
    "c = np.ones(shape=[4])"
   ]
  },
  {
   "cell_type": "code",
   "execution_count": 13,
   "metadata": {},
   "outputs": [
    {
     "data": {
      "text/plain": [
       "(10, 3, 1)"
      ]
     },
     "execution_count": 13,
     "metadata": {},
     "output_type": "execute_result"
    }
   ],
   "source": [
    "# shape before executing this cell\n",
    "\n",
    "(a + b).shape"
   ]
  },
  {
   "cell_type": "code",
   "execution_count": 14,
   "metadata": {},
   "outputs": [
    {
     "data": {
      "text/plain": [
       "(3, 4)"
      ]
     },
     "execution_count": 14,
     "metadata": {},
     "output_type": "execute_result"
    }
   ],
   "source": [
    "# shape before executing this cell\n",
    "\n",
    "(a*c).shape"
   ]
  },
  {
   "cell_type": "code",
   "execution_count": 15,
   "metadata": {},
   "outputs": [
    {
     "data": {
      "text/plain": [
       "(10, 3, 4)"
      ]
     },
     "execution_count": 15,
     "metadata": {},
     "output_type": "execute_result"
    }
   ],
   "source": [
    "# shape before executing this cell\n",
    "\n",
    "(a*b + c).shape"
   ]
  },
  {
   "cell_type": "markdown",
   "metadata": {},
   "source": [
    "## Broadcasting for univariate TensorFlow Distributions"
   ]
  },
  {
   "cell_type": "markdown",
   "metadata": {},
   "source": [
    "The broadcasting rule for TensorFlow is the same as for numpy."
   ]
  },
  {
   "cell_type": "code",
   "execution_count": 16,
   "metadata": {},
   "outputs": [],
   "source": [
    "# Define a batch of Normal distributions without broadcasting:\n",
    "\n",
    "batch_of_normals = tfd.Normal(loc=[0., 0., 0., 1., 1., 1.], scale=[1., 10., 100., 1., 10., 100.])\n",
    "batch_of_normals"
   ]
  },
  {
   "cell_type": "code",
   "execution_count": 17,
   "metadata": {},
   "outputs": [
    {
     "data": {
      "text/plain": [
       "<tf.Tensor: shape=(6,), dtype=float32, numpy=array([0., 0., 0., 1., 1., 1.], dtype=float32)>"
      ]
     },
     "execution_count": 17,
     "metadata": {},
     "output_type": "execute_result"
    }
   ],
   "source": [
    "# Parameter values for loc:\n",
    "\n",
    "batch_of_normals.loc"
   ]
  },
  {
   "cell_type": "code",
   "execution_count": 18,
   "metadata": {},
   "outputs": [
    {
     "data": {
      "text/plain": [
       "<tf.Tensor: shape=(6,), dtype=float32, numpy=array([  1.,  10., 100.,   1.,  10., 100.], dtype=float32)>"
      ]
     },
     "execution_count": 18,
     "metadata": {},
     "output_type": "execute_result"
    }
   ],
   "source": [
    "# Parameter values for scale\n",
    "\n",
    "batch_of_normals.scale"
   ]
  },
  {
   "cell_type": "markdown",
   "metadata": {},
   "source": [
    "A more succinct way to create a batch of distributions for this parameter grid is to use broadcasting: \n",
    "    \n",
    "    loc = [ [0.],\n",
    "            [1.] ]\n",
    "    scale = [1., 10., 100.]\n",
    "    \n",
    "Shapes:\n",
    "\n",
    "    loc:   2 x 1 ---> 2 x 3\n",
    "    scale: 1 x 3 ---> 2 x 3\n",
    "    \n",
    "resulting in\n",
    "\n",
    "    loc = [ [0., 0., 0.],\n",
    "            [1., 1., 1.] ]\n",
    "    scale = [ [1., 10., 100.],\n",
    "              [1., 10., 100.] ]\n",
    "              "
   ]
  },
  {
   "cell_type": "code",
   "execution_count": 19,
   "metadata": {},
   "outputs": [],
   "source": [
    "# Batch of Normal distributions with broadcasting:\n",
    "\n",
    "loc = [[0.],\n",
    "       [1.]]\n",
    "scale = [1., 10., 100.]\n",
    "\n",
    "another_batch_of_normals = tfd.Normal(loc=loc, scale=scale)\n",
    "another_batch_of_normals"
   ]
  },
  {
   "cell_type": "code",
   "execution_count": 20,
   "metadata": {},
   "outputs": [
    {
     "data": {
      "text/plain": [
       "<tf.Tensor: shape=(2, 1), dtype=float32, numpy=\n",
       "array([[0.],\n",
       "       [1.]], dtype=float32)>"
      ]
     },
     "execution_count": 20,
     "metadata": {},
     "output_type": "execute_result"
    }
   ],
   "source": [
    "another_batch_of_normals.loc"
   ]
  },
  {
   "cell_type": "code",
   "execution_count": 21,
   "metadata": {},
   "outputs": [
    {
     "data": {
      "text/plain": [
       "<tf.Tensor: shape=(3,), dtype=float32, numpy=array([  1.,  10., 100.], dtype=float32)>"
      ]
     },
     "execution_count": 21,
     "metadata": {},
     "output_type": "execute_result"
    }
   ],
   "source": [
    "another_batch_of_normals.scale"
   ]
  },
  {
   "cell_type": "markdown",
   "metadata": {},
   "source": [
    "#### Broadcasting with `prob` and `log_prob` methods"
   ]
  },
  {
   "cell_type": "code",
   "execution_count": 27,
   "metadata": {},
   "outputs": [
    {
     "data": {
      "text/plain": [
       "<tfp.distributions.Normal 'Normal' batch_shape=[2, 3] event_shape=[] dtype=float32>"
      ]
     },
     "execution_count": 27,
     "metadata": {},
     "output_type": "execute_result"
    }
   ],
   "source": [
    "# Batch of Normal distributions with broadcasting\n",
    "\n",
    "loc = [[0.],\n",
    "       [10.]]\n",
    "scale = [1., 1., 1.]\n",
    "\n",
    "another_batch_of_normals = tfd.Normal(loc=loc, scale=scale)\n",
    "another_batch_of_normals"
   ]
  },
  {
   "cell_type": "code",
   "execution_count": 28,
   "metadata": {},
   "outputs": [
    {
     "data": {
      "text/plain": [
       "<tf.Tensor: shape=(2, 3), dtype=float32, numpy=\n",
       "array([[2.618691e-01, 2.618691e-01, 2.618691e-01],\n",
       "       [5.308663e-19, 5.308663e-19, 5.308663e-19]], dtype=float32)>"
      ]
     },
     "execution_count": 28,
     "metadata": {},
     "output_type": "execute_result"
    }
   ],
   "source": [
    "\n",
    "sample = tf.random.uniform((2,1))\n",
    "another_batch_of_normals.prob(sample)"
   ]
  },
  {
   "cell_type": "code",
   "execution_count": 29,
   "metadata": {},
   "outputs": [
    {
     "data": {
      "text/plain": [
       "<tf.Tensor: shape=(2, 3), dtype=float32, numpy=\n",
       "array([[3.6396638e-01, 3.6047989e-01, 3.3060524e-01],\n",
       "       [5.0906424e-21, 6.2768311e-21, 2.9299765e-20]], dtype=float32)>"
      ]
     },
     "execution_count": 29,
     "metadata": {},
     "output_type": "execute_result"
    }
   ],
   "source": [
    "\n",
    "sample = tf.random.uniform((1,3))\n",
    "another_batch_of_normals.prob(sample)"
   ]
  },
  {
   "cell_type": "code",
   "execution_count": 30,
   "metadata": {},
   "outputs": [
    {
     "data": {
      "text/plain": [
       "<tf.Tensor: shape=(2, 3), dtype=float32, numpy=\n",
       "array([[2.4269545e-01, 2.4269545e-01, 2.4269545e-01],\n",
       "       [1.0006319e-18, 1.0006319e-18, 1.0006319e-18]], dtype=float32)>"
      ]
     },
     "execution_count": 30,
     "metadata": {},
     "output_type": "execute_result"
    }
   ],
   "source": [
    "\n",
    "sample = tf.random.uniform((1,1))\n",
    "another_batch_of_normals.prob(sample)"
   ]
  },
  {
   "cell_type": "markdown",
   "metadata": {},
   "source": [
    "`log_prob` works in the exact same way with broadcasting. We can replace `prob` with `log_prob` in any of the previous examples:"
   ]
  },
  {
   "cell_type": "code",
   "execution_count": 31,
   "metadata": {},
   "outputs": [
    {
     "data": {
      "text/plain": [
       "<tf.Tensor: shape=(2, 3), dtype=float32, numpy=\n",
       "array([[ -1.1625737 ,  -1.2653036 ,  -0.97880614],\n",
       "       [-44.1821    , -42.94226   , -47.51853   ]], dtype=float32)>"
      ]
     },
     "execution_count": 31,
     "metadata": {},
     "output_type": "execute_result"
    }
   ],
   "source": [
    "\n",
    "sample = tf.random.uniform((1,3))\n",
    "another_batch_of_normals.log_prob(sample)"
   ]
  },
  {
   "cell_type": "markdown",
   "metadata": {},
   "source": [
    "## Broadcasting for multivariate TensorFlow distributions"
   ]
  },
  {
   "cell_type": "code",
   "execution_count": 32,
   "metadata": {},
   "outputs": [
    {
     "data": {
      "text/plain": [
       "<tfp.distributions.MultivariateNormalDiag 'MultivariateNormalDiag' batch_shape=[] event_shape=[2] dtype=float32>"
      ]
     },
     "execution_count": 32,
     "metadata": {},
     "output_type": "execute_result"
    }
   ],
   "source": [
    "# Multivariate Gaussian distribution without broadcasting\n",
    "\n",
    "single_mvt_normal = tfd.MultivariateNormalDiag(loc=[0., 0.], scale_diag=[1., 0.5])\n",
    "single_mvt_normal"
   ]
  },
  {
   "cell_type": "code",
   "execution_count": 33,
   "metadata": {},
   "outputs": [
    {
     "data": {
      "text/plain": [
       "<tf.Tensor: shape=(2,), dtype=float32, numpy=array([0., 0.], dtype=float32)>"
      ]
     },
     "execution_count": 33,
     "metadata": {},
     "output_type": "execute_result"
    }
   ],
   "source": [
    "\n",
    "single_mvt_normal.loc"
   ]
  },
  {
   "cell_type": "code",
   "execution_count": 34,
   "metadata": {},
   "outputs": [
    {
     "data": {
      "text/plain": [
       "<tf.Tensor: shape=(2, 2), dtype=float32, numpy=\n",
       "array([[1.  , 0.  ],\n",
       "       [0.  , 0.25]], dtype=float32)>"
      ]
     },
     "execution_count": 34,
     "metadata": {},
     "output_type": "execute_result"
    }
   ],
   "source": [
    "# Covariance matrix\n",
    "\n",
    "single_mvt_normal.covariance()"
   ]
  },
  {
   "cell_type": "markdown",
   "metadata": {},
   "source": [
    "The size of the final axis of the inputs determines the event shape for each distribution in the batch.  This means that if we pass\n",
    "    \n",
    "    loc = [ [0., 0.],\n",
    "            [1., 1.] ]\n",
    "    scale_diag = [1., 0.5]\n",
    "    \n",
    "such that\n",
    "\n",
    "    loc:        2 x 2\n",
    "    scale_diag: 1 x 2\n",
    "                    ^ final dimension is interpreted as event dimension\n",
    "                ^ other dimensions are interpreted as batch dimensions  \n",
    "then a batch of two bivariate normal distributions will be created."
   ]
  },
  {
   "cell_type": "code",
   "execution_count": 36,
   "metadata": {},
   "outputs": [
    {
     "data": {
      "text/plain": [
       "<tfp.distributions.MultivariateNormalDiag 'MultivariateNormalDiag' batch_shape=[2] event_shape=[2] dtype=float32>"
      ]
     },
     "execution_count": 36,
     "metadata": {},
     "output_type": "execute_result"
    }
   ],
   "source": [
    "# Multivariate Gaussian distribution with broadcasting\n",
    "\n",
    "loc = [ [0., 0.],\n",
    "        [1., 1.] ]\n",
    "scale_diag = [1., 0.5]\n",
    "\n",
    "batch_of_mvt_normals = tfd.MultivariateNormalDiag(loc=loc, scale_diag=scale_diag)\n",
    "batch_of_mvt_normals"
   ]
  },
  {
   "cell_type": "code",
   "execution_count": 37,
   "metadata": {},
   "outputs": [
    {
     "data": {
      "text/plain": [
       "{'loc': ListWrapper([ListWrapper([0.0, 0.0]), ListWrapper([1.0, 1.0])]),\n",
       " 'scale_diag': ListWrapper([1.0, 0.5]),\n",
       " 'scale_identity_multiplier': None,\n",
       " 'validate_args': False,\n",
       " 'allow_nan_stats': True,\n",
       " 'name': 'MultivariateNormalDiag'}"
      ]
     },
     "execution_count": 37,
     "metadata": {},
     "output_type": "execute_result"
    }
   ],
   "source": [
    "# Print the distribution parameters\n",
    "\n",
    "batch_of_mvt_normals.parameters"
   ]
  },
  {
   "cell_type": "markdown",
   "metadata": {},
   "source": [
    "\n",
    "Align the parameter array shapes on their last axis, prepending 1s where necessary:  \n",
    "    \n",
    "           loc: 1 x 2 x 3  \n",
    "    scale_diag: 2 x 1 x 3  \n",
    "\n",
    "The final axis has size 3, so `event_shape = (3)`. The remaining axes are broadcast over to yield  \n",
    "    \n",
    "           loc: 2 x 2 x 3  \n",
    "    scale_diag: 2 x 2 x 3  \n",
    "\n",
    "so `batch_shape = (2, 2)`.\n"
   ]
  },
  {
   "cell_type": "code",
   "execution_count": 39,
   "metadata": {},
   "outputs": [
    {
     "data": {
      "text/plain": [
       "<tfp.distributions.MultivariateNormalDiag 'MultivariateNormalDiag' batch_shape=[2, 2] event_shape=[3] dtype=float32>"
      ]
     },
     "execution_count": 39,
     "metadata": {},
     "output_type": "execute_result"
    }
   ],
   "source": [
    "# Multivariate Gaussian distribution with broadcasting\n",
    "\n",
    "loc = [ [ 1.,  1.,  1.],\n",
    "        [-1., -1., -1.] ]  # shape (2, 3)\n",
    "scale_diag = [ [[0.1, 0.1, 0.1]],\n",
    "               [[10., 10., 10.]] ]  # shape (2, 1, 3)\n",
    "\n",
    "another_batch_of_mvt_normals = tfd.MultivariateNormalDiag(loc=loc, scale_diag=scale_diag)\n",
    "another_batch_of_mvt_normals"
   ]
  },
  {
   "cell_type": "code",
   "execution_count": 40,
   "metadata": {},
   "outputs": [
    {
     "data": {
      "text/plain": [
       "{'loc': ListWrapper([ListWrapper([1.0, 1.0, 1.0]), ListWrapper([-1.0, -1.0, -1.0])]),\n",
       " 'scale_diag': ListWrapper([ListWrapper([ListWrapper([0.1, 0.1, 0.1])]), ListWrapper([ListWrapper([10.0, 10.0, 10.0])])]),\n",
       " 'scale_identity_multiplier': None,\n",
       " 'validate_args': False,\n",
       " 'allow_nan_stats': True,\n",
       " 'name': 'MultivariateNormalDiag'}"
      ]
     },
     "execution_count": 40,
     "metadata": {},
     "output_type": "execute_result"
    }
   ],
   "source": [
    "# Print the distribution parameters\n",
    "\n",
    "another_batch_of_mvt_normals.parameters"
   ]
  },
  {
   "cell_type": "code",
   "execution_count": 41,
   "metadata": {},
   "outputs": [
    {
     "data": {
      "text/plain": [
       "<tfp.distributions.Normal 'Normal' batch_shape=[3, 6] event_shape=[] dtype=float32>"
      ]
     },
     "execution_count": 41,
     "metadata": {},
     "output_type": "execute_result"
    }
   ],
   "source": [
    "# Batch of Normal distributions with broadcasting\n",
    "\n",
    "loc = [[0.],\n",
    "       [1.],\n",
    "       [0.]]\n",
    "scale = [1., 10., 100., 1., 10, 100.]\n",
    "\n",
    "another_batch_of_normals = tfd.Normal(loc=loc, scale=scale)\n",
    "another_batch_of_normals"
   ]
  },
  {
   "cell_type": "markdown",
   "metadata": {},
   "source": [
    "Use `Independent` to roll the rightmost batch shape into the event shape. "
   ]
  },
  {
   "cell_type": "code",
   "execution_count": 42,
   "metadata": {},
   "outputs": [
    {
     "data": {
      "text/plain": [
       "<tfp.distributions.Independent 'IndependentNormal' batch_shape=[3] event_shape=[6] dtype=float32>"
      ]
     },
     "execution_count": 42,
     "metadata": {},
     "output_type": "execute_result"
    }
   ],
   "source": [
    "# Multivariate Independent distribution\n",
    "\n",
    "another_batch_of_mvt_normals = tfd.Independent(another_batch_of_normals)\n",
    "another_batch_of_mvt_normals"
   ]
  },
  {
   "cell_type": "code",
   "execution_count": 45,
   "metadata": {},
   "outputs": [
    {
     "data": {
      "text/plain": [
       "<tf.Tensor: shape=(3,), dtype=float32, numpy=array([3.347357e-09, 2.621434e-09, 2.871437e-09], dtype=float32)>"
      ]
     },
     "execution_count": 45,
     "metadata": {},
     "output_type": "execute_result"
    }
   ],
   "source": [
    "# Use broadcasting with the prob method (broadcast over event) - B shaped\n",
    "\n",
    "sample = tf.random.uniform((3, 1))\n",
    "another_batch_of_mvt_normals.prob(sample)"
   ]
  },
  {
   "cell_type": "code",
   "execution_count": 46,
   "metadata": {},
   "outputs": [
    {
     "data": {
      "text/plain": [
       "<tf.Tensor: shape=(3,), dtype=float32, numpy=array([3.8638230e-09, 2.0166586e-09, 3.8638230e-09], dtype=float32)>"
      ]
     },
     "execution_count": 46,
     "metadata": {},
     "output_type": "execute_result"
    }
   ],
   "source": [
    "# Use broadcasting with the prob method (broadcast over batch) - E shaped\n",
    "\n",
    "sample = tf.random.uniform((1, 6))\n",
    "another_batch_of_mvt_normals.prob(sample)"
   ]
  },
  {
   "cell_type": "code",
   "execution_count": 47,
   "metadata": {},
   "outputs": [
    {
     "data": {
      "text/plain": [
       "<tf.Tensor: shape=(2, 3), dtype=float32, numpy=\n",
       "array([[2.6432239e-09, 2.8803837e-09, 3.0818599e-09],\n",
       "       [2.5848172e-09, 2.8024925e-09, 3.5748973e-09]], dtype=float32)>"
      ]
     },
     "execution_count": 47,
     "metadata": {},
     "output_type": "execute_result"
    }
   ],
   "source": [
    "# Use broadcasting with the prob method (broadcast over samples) - [S,B,E] shaped\n",
    "\n",
    "sample = tf.random.uniform((2, 3, 6))\n",
    "another_batch_of_mvt_normals.prob(sample)"
   ]
  },
  {
   "cell_type": "code",
   "execution_count": 48,
   "metadata": {},
   "outputs": [
    {
     "data": {
      "text/plain": [
       "<tf.Tensor: shape=(2, 3), dtype=float32, numpy=\n",
       "array([[3.6079557e-09, 2.1770494e-09, 3.6079557e-09],\n",
       "       [2.9538969e-09, 3.2519281e-09, 2.9538969e-09]], dtype=float32)>"
      ]
     },
     "execution_count": 48,
     "metadata": {},
     "output_type": "execute_result"
    }
   ],
   "source": [
    "# [S,b,e] shaped input where [b,e] can be broadcast agaisnt [B,E]\n",
    "sample = tf.random.uniform((2, 1, 6))\n",
    "another_batch_of_mvt_normals.prob(sample)"
   ]
  },
  {
   "cell_type": "code",
   "execution_count": 49,
   "metadata": {},
   "outputs": [
    {
     "data": {
      "text/plain": [
       "<tf.Tensor: shape=(2, 3), dtype=float32, numpy=\n",
       "array([[3.1677998e-09, 4.0128998e-09, 2.7438039e-09],\n",
       "       [2.1045983e-09, 2.3936950e-09, 3.1428360e-09]], dtype=float32)>"
      ]
     },
     "execution_count": 49,
     "metadata": {},
     "output_type": "execute_result"
    }
   ],
   "source": [
    "# Use broadcasting with the log_prob method\n",
    "# [S,b,e] shaped input where [b,e] can be broadcast agaisnt [B,E]\n",
    "\n",
    "sample = tf.random.uniform((2, 3, 1))\n",
    "another_batch_of_mvt_normals.prob(sample)"
   ]
  }
 ],
 "metadata": {
  "kernelspec": {
   "display_name": "Python 3",
   "language": "python",
   "name": "python3"
  },
  "language_info": {
   "codemirror_mode": {
    "name": "ipython",
    "version": 3
   },
   "file_extension": ".py",
   "mimetype": "text/x-python",
   "name": "python",
   "nbconvert_exporter": "python",
   "pygments_lexer": "ipython3",
   "version": "3.7.6"
  }
 },
 "nbformat": 4,
 "nbformat_minor": 4
}
